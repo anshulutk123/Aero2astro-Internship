{
  "nbformat": 4,
  "nbformat_minor": 0,
  "metadata": {
    "colab": {
      "name": "pp_yolo.ipynb",
      "provenance": []
    },
    "kernelspec": {
      "name": "python3",
      "display_name": "Python 3"
    },
    "language_info": {
      "name": "python"
    },
    "accelerator": "GPU"
  },
  "cells": [
    {
      "cell_type": "code",
      "metadata": {
        "colab": {
          "base_uri": "https://localhost:8080/"
        },
        "id": "Ysq-ujrXfUkd",
        "outputId": "8652dc04-2b99-4f42-d6b7-f41f3b5ab9e8"
      },
      "source": [
        "%%bash\n",
        "\n",
        "#If your machine is installed with CUDA10, please run the following command to install\n",
        "python -m pip install paddlepaddle-gpu==1.8.4.post107 -i https://mirror.baidu.com/pypi/simple\n",
        "#If your machine is a CPU, please run the following command to install\n",
        "#python -m pip install paddlepaddle==1.8.4 -i https://mirror.baidu.com/pypi/simple"
      ],
      "execution_count": null,
      "outputs": [
        {
          "output_type": "stream",
          "text": [
            "Process is terminated.\n"
          ],
          "name": "stdout"
        }
      ]
    },
    {
      "cell_type": "code",
      "metadata": {
        "colab": {
          "base_uri": "https://localhost:8080/"
        },
        "id": "90yCQ9dIjSew",
        "outputId": "5550a774-4bf2-4d33-8793-a1f0ab1eff0f"
      },
      "source": [
        "pip install paddlepaddle-gpu==1.8.4.post107 -i https://mirror.baidu.com/pypi/simple"
      ],
      "execution_count": null,
      "outputs": [
        {
          "output_type": "stream",
          "text": [
            "Looking in indexes: https://mirror.baidu.com/pypi/simple\n",
            "Collecting paddlepaddle-gpu==1.8.4.post107\n",
            "  Using cached https://mirror.baidu.com/pypi/packages/c1/bd/522e59da88d7683b76bda777e5f10ef98dcdac8ed106a3f9c1abf1eb3400/paddlepaddle_gpu-1.8.4.post107-cp37-cp37m-manylinux1_x86_64.whl\n",
            "Requirement already satisfied: scipy; python_version > \"3.5\" in /usr/local/lib/python3.7/dist-packages (from paddlepaddle-gpu==1.8.4.post107) (1.4.1)\n",
            "Requirement already satisfied: protobuf>=3.1.0 in /usr/local/lib/python3.7/dist-packages (from paddlepaddle-gpu==1.8.4.post107) (3.12.4)\n",
            "Requirement already satisfied: gast>=0.3.3 in /usr/local/lib/python3.7/dist-packages (from paddlepaddle-gpu==1.8.4.post107) (0.4.0)\n",
            "Requirement already satisfied: nltk; python_version >= \"3.5\" in /usr/local/lib/python3.7/dist-packages (from paddlepaddle-gpu==1.8.4.post107) (3.2.5)\n",
            "Requirement already satisfied: six in /usr/local/lib/python3.7/dist-packages (from paddlepaddle-gpu==1.8.4.post107) (1.15.0)\n",
            "Requirement already satisfied: decorator in /usr/local/lib/python3.7/dist-packages (from paddlepaddle-gpu==1.8.4.post107) (4.4.2)\n",
            "Collecting rarfile\n",
            "  Downloading https://mirror.baidu.com/pypi/packages/95/f4/c92fab227c7457e3b76a4096ccb655ded9deac869849cb03afbe55dfdc1e/rarfile-4.0-py3-none-any.whl\n",
            "Requirement already satisfied: Pillow in /usr/local/lib/python3.7/dist-packages (from paddlepaddle-gpu==1.8.4.post107) (7.1.2)\n",
            "Requirement already satisfied: astor in /usr/local/lib/python3.7/dist-packages (from paddlepaddle-gpu==1.8.4.post107) (0.8.1)\n",
            "Requirement already satisfied: prettytable in /usr/local/lib/python3.7/dist-packages (from paddlepaddle-gpu==1.8.4.post107) (2.1.0)\n",
            "Requirement already satisfied: matplotlib; python_version >= \"3.6\" in /usr/local/lib/python3.7/dist-packages (from paddlepaddle-gpu==1.8.4.post107) (3.2.2)\n",
            "Collecting funcsigs\n",
            "  Downloading https://mirror.baidu.com/pypi/packages/69/cb/f5be453359271714c01b9bd06126eaf2e368f1fddfff30818754b5ac2328/funcsigs-1.0.2-py2.py3-none-any.whl\n",
            "Requirement already satisfied: requests>=2.20.0 in /usr/local/lib/python3.7/dist-packages (from paddlepaddle-gpu==1.8.4.post107) (2.23.0)\n",
            "Requirement already satisfied: pyyaml in /usr/local/lib/python3.7/dist-packages (from paddlepaddle-gpu==1.8.4.post107) (3.13)\n",
            "Collecting objgraph\n",
            "  Downloading https://mirror.baidu.com/pypi/packages/a9/79/9f47706447b9ba0003c0680da4fed1d502adf410e1d953b4d1a5d3486640/objgraph-3.5.0-py2.py3-none-any.whl\n",
            "Requirement already satisfied: pathlib in /usr/local/lib/python3.7/dist-packages (from paddlepaddle-gpu==1.8.4.post107) (1.0.1)\n",
            "Requirement already satisfied: opencv-python in /usr/local/lib/python3.7/dist-packages (from paddlepaddle-gpu==1.8.4.post107) (4.1.2.30)\n",
            "Requirement already satisfied: numpy>=1.12; python_version >= \"3.5\" in /usr/local/lib/python3.7/dist-packages (from paddlepaddle-gpu==1.8.4.post107) (1.19.5)\n",
            "Requirement already satisfied: graphviz in /usr/local/lib/python3.7/dist-packages (from paddlepaddle-gpu==1.8.4.post107) (0.10.1)\n",
            "Requirement already satisfied: setuptools in /usr/local/lib/python3.7/dist-packages (from protobuf>=3.1.0->paddlepaddle-gpu==1.8.4.post107) (57.0.0)\n",
            "Requirement already satisfied: wcwidth in /usr/local/lib/python3.7/dist-packages (from prettytable->paddlepaddle-gpu==1.8.4.post107) (0.2.5)\n",
            "Requirement already satisfied: importlib-metadata; python_version < \"3.8\" in /usr/local/lib/python3.7/dist-packages (from prettytable->paddlepaddle-gpu==1.8.4.post107) (4.5.0)\n",
            "Requirement already satisfied: python-dateutil>=2.1 in /usr/local/lib/python3.7/dist-packages (from matplotlib; python_version >= \"3.6\"->paddlepaddle-gpu==1.8.4.post107) (2.8.1)\n",
            "Requirement already satisfied: pyparsing!=2.0.4,!=2.1.2,!=2.1.6,>=2.0.1 in /usr/local/lib/python3.7/dist-packages (from matplotlib; python_version >= \"3.6\"->paddlepaddle-gpu==1.8.4.post107) (2.4.7)\n",
            "Requirement already satisfied: kiwisolver>=1.0.1 in /usr/local/lib/python3.7/dist-packages (from matplotlib; python_version >= \"3.6\"->paddlepaddle-gpu==1.8.4.post107) (1.3.1)\n",
            "Requirement already satisfied: cycler>=0.10 in /usr/local/lib/python3.7/dist-packages (from matplotlib; python_version >= \"3.6\"->paddlepaddle-gpu==1.8.4.post107) (0.10.0)\n",
            "Requirement already satisfied: certifi>=2017.4.17 in /usr/local/lib/python3.7/dist-packages (from requests>=2.20.0->paddlepaddle-gpu==1.8.4.post107) (2021.5.30)\n",
            "Requirement already satisfied: chardet<4,>=3.0.2 in /usr/local/lib/python3.7/dist-packages (from requests>=2.20.0->paddlepaddle-gpu==1.8.4.post107) (3.0.4)\n",
            "Requirement already satisfied: urllib3!=1.25.0,!=1.25.1,<1.26,>=1.21.1 in /usr/local/lib/python3.7/dist-packages (from requests>=2.20.0->paddlepaddle-gpu==1.8.4.post107) (1.24.3)\n",
            "Requirement already satisfied: idna<3,>=2.5 in /usr/local/lib/python3.7/dist-packages (from requests>=2.20.0->paddlepaddle-gpu==1.8.4.post107) (2.10)\n",
            "Requirement already satisfied: zipp>=0.5 in /usr/local/lib/python3.7/dist-packages (from importlib-metadata; python_version < \"3.8\"->prettytable->paddlepaddle-gpu==1.8.4.post107) (3.4.1)\n",
            "Requirement already satisfied: typing-extensions>=3.6.4; python_version < \"3.8\" in /usr/local/lib/python3.7/dist-packages (from importlib-metadata; python_version < \"3.8\"->prettytable->paddlepaddle-gpu==1.8.4.post107) (3.7.4.3)\n",
            "Installing collected packages: rarfile, funcsigs, objgraph, paddlepaddle-gpu\n",
            "Successfully installed funcsigs-1.0.2 objgraph-3.5.0 paddlepaddle-gpu-1.8.4.post107 rarfile-4.0\n"
          ],
          "name": "stdout"
        }
      ]
    },
    {
      "cell_type": "code",
      "metadata": {
        "colab": {
          "base_uri": "https://localhost:8080/"
        },
        "id": "cesb1gQdi3bZ",
        "outputId": "b493e136-1576-4320-ae0a-3f81a2029dda"
      },
      "source": [
        "pip install paddlepaddle==1.8.4 -i https://mirror.baidu.com/pypi/simple"
      ],
      "execution_count": null,
      "outputs": [
        {
          "output_type": "stream",
          "text": [
            "Looking in indexes: https://mirror.baidu.com/pypi/simple\n",
            "Collecting paddlepaddle==1.8.4\n",
            "\u001b[?25l  Downloading https://mirror.baidu.com/pypi/packages/aa/53/31dd1975a7e2650b4fba9746f3d784ea7c4ad7d6205875b76f94d60e375a/paddlepaddle-1.8.4-cp37-cp37m-manylinux1_x86_64.whl (111.2MB)\n",
            "\u001b[K     |████████████████████████████████| 111.2MB 99kB/s \n",
            "\u001b[?25hRequirement already satisfied: six in /usr/local/lib/python3.7/dist-packages (from paddlepaddle==1.8.4) (1.15.0)\n",
            "Requirement already satisfied: astor in /usr/local/lib/python3.7/dist-packages (from paddlepaddle==1.8.4) (0.8.1)\n",
            "Requirement already satisfied: opencv-python in /usr/local/lib/python3.7/dist-packages (from paddlepaddle==1.8.4) (4.1.2.30)\n",
            "Requirement already satisfied: matplotlib; python_version >= \"3.6\" in /usr/local/lib/python3.7/dist-packages (from paddlepaddle==1.8.4) (3.2.2)\n",
            "Requirement already satisfied: graphviz in /usr/local/lib/python3.7/dist-packages (from paddlepaddle==1.8.4) (0.10.1)\n",
            "Requirement already satisfied: scipy; python_version > \"3.5\" in /usr/local/lib/python3.7/dist-packages (from paddlepaddle==1.8.4) (1.4.1)\n",
            "Requirement already satisfied: pyyaml in /usr/local/lib/python3.7/dist-packages (from paddlepaddle==1.8.4) (3.13)\n",
            "Requirement already satisfied: prettytable in /usr/local/lib/python3.7/dist-packages (from paddlepaddle==1.8.4) (2.1.0)\n",
            "Requirement already satisfied: nltk; python_version >= \"3.5\" in /usr/local/lib/python3.7/dist-packages (from paddlepaddle==1.8.4) (3.2.5)\n",
            "Requirement already satisfied: pathlib in /usr/local/lib/python3.7/dist-packages (from paddlepaddle==1.8.4) (1.0.1)\n",
            "Requirement already satisfied: requests>=2.20.0 in /usr/local/lib/python3.7/dist-packages (from paddlepaddle==1.8.4) (2.23.0)\n",
            "Requirement already satisfied: Pillow in /usr/local/lib/python3.7/dist-packages (from paddlepaddle==1.8.4) (7.1.2)\n",
            "Requirement already satisfied: protobuf>=3.1.0 in /usr/local/lib/python3.7/dist-packages (from paddlepaddle==1.8.4) (3.12.4)\n",
            "Requirement already satisfied: objgraph in /usr/local/lib/python3.7/dist-packages (from paddlepaddle==1.8.4) (3.5.0)\n",
            "Requirement already satisfied: funcsigs in /usr/local/lib/python3.7/dist-packages (from paddlepaddle==1.8.4) (1.0.2)\n",
            "Requirement already satisfied: rarfile in /usr/local/lib/python3.7/dist-packages (from paddlepaddle==1.8.4) (4.0)\n",
            "Requirement already satisfied: decorator in /usr/local/lib/python3.7/dist-packages (from paddlepaddle==1.8.4) (4.4.2)\n",
            "Requirement already satisfied: numpy>=1.12; python_version >= \"3.5\" in /usr/local/lib/python3.7/dist-packages (from paddlepaddle==1.8.4) (1.19.5)\n",
            "Requirement already satisfied: gast>=0.3.3 in /usr/local/lib/python3.7/dist-packages (from paddlepaddle==1.8.4) (0.4.0)\n",
            "Requirement already satisfied: pyparsing!=2.0.4,!=2.1.2,!=2.1.6,>=2.0.1 in /usr/local/lib/python3.7/dist-packages (from matplotlib; python_version >= \"3.6\"->paddlepaddle==1.8.4) (2.4.7)\n",
            "Requirement already satisfied: cycler>=0.10 in /usr/local/lib/python3.7/dist-packages (from matplotlib; python_version >= \"3.6\"->paddlepaddle==1.8.4) (0.10.0)\n",
            "Requirement already satisfied: kiwisolver>=1.0.1 in /usr/local/lib/python3.7/dist-packages (from matplotlib; python_version >= \"3.6\"->paddlepaddle==1.8.4) (1.3.1)\n",
            "Requirement already satisfied: python-dateutil>=2.1 in /usr/local/lib/python3.7/dist-packages (from matplotlib; python_version >= \"3.6\"->paddlepaddle==1.8.4) (2.8.1)\n",
            "Requirement already satisfied: wcwidth in /usr/local/lib/python3.7/dist-packages (from prettytable->paddlepaddle==1.8.4) (0.2.5)\n",
            "Requirement already satisfied: importlib-metadata; python_version < \"3.8\" in /usr/local/lib/python3.7/dist-packages (from prettytable->paddlepaddle==1.8.4) (4.5.0)\n",
            "Requirement already satisfied: certifi>=2017.4.17 in /usr/local/lib/python3.7/dist-packages (from requests>=2.20.0->paddlepaddle==1.8.4) (2021.5.30)\n",
            "Requirement already satisfied: urllib3!=1.25.0,!=1.25.1,<1.26,>=1.21.1 in /usr/local/lib/python3.7/dist-packages (from requests>=2.20.0->paddlepaddle==1.8.4) (1.24.3)\n",
            "Requirement already satisfied: idna<3,>=2.5 in /usr/local/lib/python3.7/dist-packages (from requests>=2.20.0->paddlepaddle==1.8.4) (2.10)\n",
            "Requirement already satisfied: chardet<4,>=3.0.2 in /usr/local/lib/python3.7/dist-packages (from requests>=2.20.0->paddlepaddle==1.8.4) (3.0.4)\n",
            "Requirement already satisfied: setuptools in /usr/local/lib/python3.7/dist-packages (from protobuf>=3.1.0->paddlepaddle==1.8.4) (57.0.0)\n",
            "Requirement already satisfied: zipp>=0.5 in /usr/local/lib/python3.7/dist-packages (from importlib-metadata; python_version < \"3.8\"->prettytable->paddlepaddle==1.8.4) (3.4.1)\n",
            "Requirement already satisfied: typing-extensions>=3.6.4; python_version < \"3.8\" in /usr/local/lib/python3.7/dist-packages (from importlib-metadata; python_version < \"3.8\"->prettytable->paddlepaddle==1.8.4) (3.7.4.3)\n",
            "Installing collected packages: paddlepaddle\n",
            "Successfully installed paddlepaddle-1.8.4\n"
          ],
          "name": "stdout"
        }
      ]
    },
    {
      "cell_type": "code",
      "metadata": {
        "colab": {
          "base_uri": "https://localhost:8080/"
        },
        "id": "VHJN8qeHfrm4",
        "outputId": "ae4c3ace-ad0f-4814-c290-311df3bcb3ce"
      },
      "source": [
        "# Confirm that PaddlePaddle is installed successfully in your Python interpreter\n",
        "import paddle.fluid as fluid\n",
        "fluid.install_check.run_check()\n",
        "\n",
        "#Confirm PaddlePaddle version\n",
        "!python -c \"import paddle; print(paddle.__version__)\""
      ],
      "execution_count": null,
      "outputs": [
        {
          "output_type": "stream",
          "text": [
            "Running Verify Fluid Program ... \n",
            "Your Paddle Fluid works well on SINGLE GPU or CPU.\n",
            "Your Paddle Fluid works well on MUTIPLE GPU or CPU.\n",
            "Your Paddle Fluid is installed successfully! Let's start deep Learning with Paddle Fluid now\n",
            "1.8.4\n"
          ],
          "name": "stdout"
        }
      ]
    },
    {
      "cell_type": "code",
      "metadata": {
        "colab": {
          "base_uri": "https://localhost:8080/"
        },
        "id": "LZqH3Jiyip_e",
        "outputId": "4828960c-9b68-40df-dc45-2f1f338cd88f"
      },
      "source": [
        "!git clone https://github.com/PaddlePaddle/PaddleDetection.git"
      ],
      "execution_count": 1,
      "outputs": [
        {
          "output_type": "stream",
          "text": [
            "Cloning into 'PaddleDetection'...\n",
            "remote: Enumerating objects: 14312, done.\u001b[K\n",
            "remote: Counting objects: 100% (1258/1258), done.\u001b[K\n",
            "remote: Compressing objects: 100% (644/644), done.\u001b[K\n",
            "remote: Total 14312 (delta 754), reused 993 (delta 613), pack-reused 13054\u001b[K\n",
            "Receiving objects: 100% (14312/14312), 133.60 MiB | 22.18 MiB/s, done.\n",
            "Resolving deltas: 100% (10091/10091), done.\n"
          ],
          "name": "stdout"
        }
      ]
    },
    {
      "cell_type": "code",
      "metadata": {
        "colab": {
          "base_uri": "https://localhost:8080/"
        },
        "id": "4cfv_pm2j-7E",
        "outputId": "0ddd89fc-94e8-4717-d8a1-4b8f37ce4027"
      },
      "source": [
        "%cd /content/PaddleDetection"
      ],
      "execution_count": null,
      "outputs": [
        {
          "output_type": "stream",
          "text": [
            "/content/PaddleDetection\n"
          ],
          "name": "stdout"
        }
      ]
    },
    {
      "cell_type": "code",
      "metadata": {
        "colab": {
          "base_uri": "https://localhost:8080/"
        },
        "id": "bsNhcZglk6SZ",
        "outputId": "430b9ed4-204d-416d-b057-1def5efdf13a"
      },
      "source": [
        "!python ppdet/modeling/tests/test_architectures.py"
      ],
      "execution_count": null,
      "outputs": [
        {
          "output_type": "stream",
          "text": [
            "Traceback (most recent call last):\n",
            "  File \"ppdet/modeling/tests/test_architectures.py\", line 20, in <module>\n",
            "    import ppdet\n",
            "ModuleNotFoundError: No module named 'ppdet'\n"
          ],
          "name": "stdout"
        }
      ]
    },
    {
      "cell_type": "code",
      "metadata": {
        "id": "JYaRgrlW6C0_"
      },
      "source": [
        ""
      ],
      "execution_count": null,
      "outputs": []
    }
  ]
}