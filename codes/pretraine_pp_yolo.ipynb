{
  "nbformat": 4,
  "nbformat_minor": 0,
  "metadata": {
    "colab": {
      "name": "pretraine_pp_yolo.ipynb",
      "provenance": []
    },
    "kernelspec": {
      "name": "python3",
      "display_name": "Python 3"
    },
    "language_info": {
      "name": "python"
    },
    "accelerator": "GPU"
  },
  "cells": [
    {
      "cell_type": "code",
      "metadata": {
        "colab": {
          "base_uri": "https://localhost:8080/"
        },
        "id": "0olsSQTUjql4",
        "outputId": "eca8a0bf-ece1-4115-b404-675daa4ed02f"
      },
      "source": [
        "!pip install paddlepaddle-gpu==2.1.0.post101 -f https://paddlepaddle.org.cn/whl/mkl/stable.html"
      ],
      "execution_count": null,
      "outputs": [
        {
          "output_type": "stream",
          "text": [
            "Looking in links: https://paddlepaddle.org.cn/whl/mkl/stable.html\n",
            "Collecting paddlepaddle-gpu==2.1.0.post101\n",
            "\u001b[?25l  Downloading https://paddle-wheel.bj.bcebos.com/2.1.0-gpu-cuda10.1-cudnn7-mkl-gcc5.4/paddlepaddle_gpu-2.1.0.post101-cp37-cp37m-linux_x86_64.whl (344.9MB)\n",
            "\u001b[K     |████████████████████████████████| 344.9MB 51kB/s \n",
            "\u001b[?25hRequirement already satisfied: six in /usr/local/lib/python3.7/dist-packages (from paddlepaddle-gpu==2.1.0.post101) (1.15.0)\n",
            "Requirement already satisfied: astor in /usr/local/lib/python3.7/dist-packages (from paddlepaddle-gpu==2.1.0.post101) (0.8.1)\n",
            "Requirement already satisfied: Pillow in /usr/local/lib/python3.7/dist-packages (from paddlepaddle-gpu==2.1.0.post101) (7.1.2)\n",
            "Requirement already satisfied: protobuf>=3.1.0 in /usr/local/lib/python3.7/dist-packages (from paddlepaddle-gpu==2.1.0.post101) (3.12.4)\n",
            "Requirement already satisfied: requests>=2.20.0 in /usr/local/lib/python3.7/dist-packages (from paddlepaddle-gpu==2.1.0.post101) (2.23.0)\n",
            "Requirement already satisfied: numpy>=1.13; python_version >= \"3.5\" and platform_system != \"Windows\" in /usr/local/lib/python3.7/dist-packages (from paddlepaddle-gpu==2.1.0.post101) (1.19.5)\n",
            "Requirement already satisfied: gast>=0.3.3; platform_system != \"Windows\" in /usr/local/lib/python3.7/dist-packages (from paddlepaddle-gpu==2.1.0.post101) (0.4.0)\n",
            "Requirement already satisfied: decorator==4.4.2 in /usr/local/lib/python3.7/dist-packages (from paddlepaddle-gpu==2.1.0.post101) (4.4.2)\n",
            "Requirement already satisfied: setuptools in /usr/local/lib/python3.7/dist-packages (from protobuf>=3.1.0->paddlepaddle-gpu==2.1.0.post101) (57.0.0)\n",
            "Requirement already satisfied: urllib3!=1.25.0,!=1.25.1,<1.26,>=1.21.1 in /usr/local/lib/python3.7/dist-packages (from requests>=2.20.0->paddlepaddle-gpu==2.1.0.post101) (1.24.3)\n",
            "Requirement already satisfied: chardet<4,>=3.0.2 in /usr/local/lib/python3.7/dist-packages (from requests>=2.20.0->paddlepaddle-gpu==2.1.0.post101) (3.0.4)\n",
            "Requirement already satisfied: certifi>=2017.4.17 in /usr/local/lib/python3.7/dist-packages (from requests>=2.20.0->paddlepaddle-gpu==2.1.0.post101) (2021.5.30)\n",
            "Requirement already satisfied: idna<3,>=2.5 in /usr/local/lib/python3.7/dist-packages (from requests>=2.20.0->paddlepaddle-gpu==2.1.0.post101) (2.10)\n",
            "Installing collected packages: paddlepaddle-gpu\n",
            "Successfully installed paddlepaddle-gpu-2.1.0.post101\n"
          ],
          "name": "stdout"
        }
      ]
    },
    {
      "cell_type": "code",
      "metadata": {
        "colab": {
          "base_uri": "https://localhost:8080/"
        },
        "id": "JRcQhVQsiqBS",
        "outputId": "e7a8245b-bdae-4fcd-f7e4-01255ad3da6c"
      },
      "source": [
        "# Confirm that PaddlePaddle is installed successfully in your Python interpreter\n",
        "import paddle.fluid as fluid\n",
        "fluid.install_check.run_check()\n",
        "\n",
        "#Confirm PaddlePaddle version\n",
        "!python -c \"import paddle; print(paddle.__version__)\""
      ],
      "execution_count": null,
      "outputs": [
        {
          "output_type": "stream",
          "text": [
            "Running Verify Fluid Program ... \n",
            "Your Paddle Fluid works well on SINGLE GPU or CPU.\n",
            "Your Paddle Fluid works well on MUTIPLE GPU or CPU.\n",
            "Your Paddle Fluid is installed successfully! Let's start deep Learning with Paddle Fluid now\n",
            "2.1.0\n"
          ],
          "name": "stdout"
        }
      ]
    },
    {
      "cell_type": "code",
      "metadata": {
        "colab": {
          "base_uri": "https://localhost:8080/"
        },
        "id": "LXwQ0InGnZpH",
        "outputId": "fa8a807c-7b2e-47fa-a102-410aa55dd681"
      },
      "source": [
        "pip install paddledet==2.1.0 -i https://mirror.baidu.com/pypi/simple"
      ],
      "execution_count": null,
      "outputs": [
        {
          "output_type": "stream",
          "text": [
            "Looking in indexes: https://mirror.baidu.com/pypi/simple\n",
            "Collecting paddledet==2.1.0\n",
            "\u001b[?25l  Downloading https://mirror.baidu.com/pypi/packages/c4/bb/00c70533735da3ed5741f0d5823f6560148cff4cd6c01b9bef23f2ea8956/paddledet-2.1.0-py3-none-any.whl (416kB)\n",
            "\u001b[K     |████████████████████████████████| 419kB 188kB/s \n",
            "\u001b[?25hRequirement already satisfied: PyYAML in /usr/local/lib/python3.7/dist-packages (from paddledet==2.1.0) (3.13)\n",
            "Requirement already satisfied: tqdm in /usr/local/lib/python3.7/dist-packages (from paddledet==2.1.0) (4.41.1)\n",
            "Collecting lap\n",
            "\u001b[?25l  Downloading https://mirror.baidu.com/pypi/packages/bf/64/d9fb6a75b15e783952b2fec6970f033462e67db32dc43dfbb404c14e91c2/lap-0.4.0.tar.gz (1.5MB)\n",
            "\u001b[K     |████████████████████████████████| 1.5MB 2.2MB/s \n",
            "\u001b[?25hRequirement already satisfied: shapely in /usr/local/lib/python3.7/dist-packages (from paddledet==2.1.0) (1.7.1)\n",
            "Requirement already satisfied: openpyxl in /usr/local/lib/python3.7/dist-packages (from paddledet==2.1.0) (2.5.9)\n",
            "Requirement already satisfied: opencv-python in /usr/local/lib/python3.7/dist-packages (from paddledet==2.1.0) (4.1.2.30)\n",
            "Requirement already satisfied: typeguard; python_version >= \"3.4\" in /usr/local/lib/python3.7/dist-packages (from paddledet==2.1.0) (2.7.1)\n",
            "Requirement already satisfied: scipy in /usr/local/lib/python3.7/dist-packages (from paddledet==2.1.0) (1.4.1)\n",
            "Requirement already satisfied: sklearn in /usr/local/lib/python3.7/dist-packages (from paddledet==2.1.0) (0.0)\n",
            "Collecting visualdl>=2.1.0; python_version <= \"3.7\"\n",
            "\u001b[?25l  Downloading https://mirror.baidu.com/pypi/packages/31/99/f5f50d035006b0d9304700facd9e1c843af8e02569474996d1b6a79529f6/visualdl-2.2.0-py3-none-any.whl (2.7MB)\n",
            "\u001b[K     |████████████████████████████████| 2.7MB 9.7MB/s \n",
            "\u001b[?25hRequirement already satisfied: Cython in /usr/local/lib/python3.7/dist-packages (from paddledet==2.1.0) (0.29.23)\n",
            "Collecting motmetrics\n",
            "\u001b[?25l  Downloading https://mirror.baidu.com/pypi/packages/9c/28/9c3bc8e2a87f4c9e7b04ab72856ec7f9895a66681a65973ffaf9562ef879/motmetrics-1.2.0-py3-none-any.whl (151kB)\n",
            "\u001b[K     |████████████████████████████████| 153kB 2.9MB/s \n",
            "\u001b[?25hCollecting terminaltables\n",
            "  Downloading https://mirror.baidu.com/pypi/packages/9b/c4/4a21174f32f8a7e1104798c445dacdc1d4df86f2f26722767034e4de4bff/terminaltables-3.1.0.tar.gz\n",
            "Requirement already satisfied: pycocotools in /usr/local/lib/python3.7/dist-packages (from paddledet==2.1.0) (2.0.2)\n",
            "Requirement already satisfied: setuptools>=42.0.0 in /usr/local/lib/python3.7/dist-packages (from paddledet==2.1.0) (57.0.0)\n",
            "Requirement already satisfied: et-xmlfile in /usr/local/lib/python3.7/dist-packages (from openpyxl->paddledet==2.1.0) (1.1.0)\n",
            "Requirement already satisfied: jdcal in /usr/local/lib/python3.7/dist-packages (from openpyxl->paddledet==2.1.0) (1.4.1)\n",
            "Requirement already satisfied: numpy>=1.14.5 in /usr/local/lib/python3.7/dist-packages (from opencv-python->paddledet==2.1.0) (1.19.5)\n",
            "Requirement already satisfied: scikit-learn in /usr/local/lib/python3.7/dist-packages (from sklearn->paddledet==2.1.0) (0.22.2.post1)\n",
            "Collecting flake8>=3.7.9\n",
            "\u001b[?25l  Downloading https://mirror.baidu.com/pypi/packages/fc/80/35a0716e5d5101e643404dabd20f07f5528a21f3ef4032d31a49c913237b/flake8-3.9.2-py2.py3-none-any.whl (73kB)\n",
            "\u001b[K     |████████████████████████████████| 81kB 7.9MB/s \n",
            "\u001b[?25hRequirement already satisfied: Pillow>=7.0.0 in /usr/local/lib/python3.7/dist-packages (from visualdl>=2.1.0; python_version <= \"3.7\"->paddledet==2.1.0) (7.1.2)\n",
            "Requirement already satisfied: pandas in /usr/local/lib/python3.7/dist-packages (from visualdl>=2.1.0; python_version <= \"3.7\"->paddledet==2.1.0) (1.1.5)\n",
            "Collecting Flask-Babel>=1.0.0\n",
            "  Downloading https://mirror.baidu.com/pypi/packages/ab/3e/02331179ffab8b79e0383606a028b6a60fb1b4419b84935edd43223406a0/Flask_Babel-2.0.0-py3-none-any.whl\n",
            "Requirement already satisfied: requests in /usr/local/lib/python3.7/dist-packages (from visualdl>=2.1.0; python_version <= \"3.7\"->paddledet==2.1.0) (2.23.0)\n",
            "Collecting shellcheck-py\n",
            "\u001b[?25l  Downloading https://mirror.baidu.com/pypi/packages/77/c9/6f84db444de69e1bdbfd168ae6f3d5af72107c16cd9db3c0a1f8e41204d1/shellcheck_py-0.7.2.1-py2.py3-none-manylinux1_x86_64.whl (2.0MB)\n",
            "\u001b[K     |████████████████████████████████| 2.0MB 14.2MB/s \n",
            "\u001b[?25hCollecting bce-python-sdk\n",
            "\u001b[?25l  Downloading https://mirror.baidu.com/pypi/packages/28/75/8bf48f52fd50a3b6f54c32e0c1c2791e80eb7bc54a712210a69e4236aaac/bce_python_sdk-0.8.61-py3-none-any.whl (197kB)\n",
            "\u001b[K     |████████████████████████████████| 204kB 18.4MB/s \n",
            "\u001b[?25hCollecting pre-commit\n",
            "\u001b[?25l  Downloading https://mirror.baidu.com/pypi/packages/b2/38/3e5475cbd6921cd8208a06c113384a88bb19ce0cda1155f33d4f19183de1/pre_commit-2.13.0-py2.py3-none-any.whl (190kB)\n",
            "\u001b[K     |████████████████████████████████| 194kB 4.8MB/s \n",
            "\u001b[?25hRequirement already satisfied: flask>=1.1.1 in /usr/local/lib/python3.7/dist-packages (from visualdl>=2.1.0; python_version <= \"3.7\"->paddledet==2.1.0) (1.1.4)\n",
            "Requirement already satisfied: protobuf>=3.11.0 in /usr/local/lib/python3.7/dist-packages (from visualdl>=2.1.0; python_version <= \"3.7\"->paddledet==2.1.0) (3.12.4)\n",
            "Requirement already satisfied: six>=1.14.0 in /usr/local/lib/python3.7/dist-packages (from visualdl>=2.1.0; python_version <= \"3.7\"->paddledet==2.1.0) (1.15.0)\n",
            "Requirement already satisfied: matplotlib in /usr/local/lib/python3.7/dist-packages (from visualdl>=2.1.0; python_version <= \"3.7\"->paddledet==2.1.0) (3.2.2)\n",
            "Collecting pytest-benchmark\n",
            "\u001b[?25l  Downloading https://mirror.baidu.com/pypi/packages/2c/60/423a63fb190a0483d049786a121bd3dfd7d93bb5ff1bb5b5cd13e5df99a7/pytest_benchmark-3.4.1-py2.py3-none-any.whl (50kB)\n",
            "\u001b[K     |████████████████████████████████| 51kB 2.6MB/s \n",
            "\u001b[?25hCollecting flake8-import-order\n",
            "  Downloading https://mirror.baidu.com/pypi/packages/ab/52/cf2d6e2c505644ca06de2f6f3546f1e4f2b7be34246c9e0757c6048868f9/flake8_import_order-0.18.1-py2.py3-none-any.whl\n",
            "Requirement already satisfied: pytest in /usr/local/lib/python3.7/dist-packages (from motmetrics->paddledet==2.1.0) (3.6.4)\n",
            "Collecting xmltodict>=0.12.0\n",
            "  Downloading https://mirror.baidu.com/pypi/packages/28/fd/30d5c1d3ac29ce229f6bdc40bbc20b28f716e8b363140c26eff19122d8a5/xmltodict-0.12.0-py2.py3-none-any.whl\n",
            "Requirement already satisfied: joblib>=0.11 in /usr/local/lib/python3.7/dist-packages (from scikit-learn->sklearn->paddledet==2.1.0) (1.0.1)\n",
            "Collecting pycodestyle<2.8.0,>=2.7.0\n",
            "\u001b[?25l  Downloading https://mirror.baidu.com/pypi/packages/de/cc/227251b1471f129bc35e966bb0fceb005969023926d744139642d847b7ae/pycodestyle-2.7.0-py2.py3-none-any.whl (41kB)\n",
            "\u001b[K     |████████████████████████████████| 51kB 4.8MB/s \n",
            "\u001b[?25hCollecting mccabe<0.7.0,>=0.6.0\n",
            "  Downloading https://mirror.baidu.com/pypi/packages/87/89/479dc97e18549e21354893e4ee4ef36db1d237534982482c3681ee6e7b57/mccabe-0.6.1-py2.py3-none-any.whl\n",
            "Collecting pyflakes<2.4.0,>=2.3.0\n",
            "\u001b[?25l  Downloading https://mirror.baidu.com/pypi/packages/6c/11/2a745612f1d3cbbd9c69ba14b1b43a35a2f5c3c81cd0124508c52c64307f/pyflakes-2.3.1-py2.py3-none-any.whl (68kB)\n",
            "\u001b[K     |████████████████████████████████| 71kB 4.1MB/s \n",
            "\u001b[?25hRequirement already satisfied: importlib-metadata; python_version < \"3.8\" in /usr/local/lib/python3.7/dist-packages (from flake8>=3.7.9->visualdl>=2.1.0; python_version <= \"3.7\"->paddledet==2.1.0) (4.5.0)\n",
            "Requirement already satisfied: pytz>=2017.2 in /usr/local/lib/python3.7/dist-packages (from pandas->visualdl>=2.1.0; python_version <= \"3.7\"->paddledet==2.1.0) (2018.9)\n",
            "Requirement already satisfied: python-dateutil>=2.7.3 in /usr/local/lib/python3.7/dist-packages (from pandas->visualdl>=2.1.0; python_version <= \"3.7\"->paddledet==2.1.0) (2.8.1)\n",
            "Requirement already satisfied: Jinja2>=2.5 in /usr/local/lib/python3.7/dist-packages (from Flask-Babel>=1.0.0->visualdl>=2.1.0; python_version <= \"3.7\"->paddledet==2.1.0) (2.11.3)\n",
            "Requirement already satisfied: Babel>=2.3 in /usr/local/lib/python3.7/dist-packages (from Flask-Babel>=1.0.0->visualdl>=2.1.0; python_version <= \"3.7\"->paddledet==2.1.0) (2.9.1)\n",
            "Requirement already satisfied: chardet<4,>=3.0.2 in /usr/local/lib/python3.7/dist-packages (from requests->visualdl>=2.1.0; python_version <= \"3.7\"->paddledet==2.1.0) (3.0.4)\n",
            "Requirement already satisfied: idna<3,>=2.5 in /usr/local/lib/python3.7/dist-packages (from requests->visualdl>=2.1.0; python_version <= \"3.7\"->paddledet==2.1.0) (2.10)\n",
            "Requirement already satisfied: certifi>=2017.4.17 in /usr/local/lib/python3.7/dist-packages (from requests->visualdl>=2.1.0; python_version <= \"3.7\"->paddledet==2.1.0) (2021.5.30)\n",
            "Requirement already satisfied: urllib3!=1.25.0,!=1.25.1,<1.26,>=1.21.1 in /usr/local/lib/python3.7/dist-packages (from requests->visualdl>=2.1.0; python_version <= \"3.7\"->paddledet==2.1.0) (1.24.3)\n",
            "Collecting pycryptodome>=3.8.0\n",
            "\u001b[?25l  Downloading https://mirror.baidu.com/pypi/packages/ad/16/9627ab0493894a11c68e46000dbcc82f578c8ff06bc2980dcd016aea9bd3/pycryptodome-3.10.1-cp35-abi3-manylinux2010_x86_64.whl (1.9MB)\n",
            "\u001b[K     |████████████████████████████████| 1.9MB 4.9MB/s \n",
            "\u001b[?25hRequirement already satisfied: future>=0.6.0 in /usr/local/lib/python3.7/dist-packages (from bce-python-sdk->visualdl>=2.1.0; python_version <= \"3.7\"->paddledet==2.1.0) (0.16.0)\n",
            "Collecting virtualenv>=20.0.8\n",
            "\u001b[?25l  Downloading https://mirror.baidu.com/pypi/packages/03/08/f819421002e85a71d58368f7bffbe0b1921325e0e8ca7857cb5fb0e1f7c1/virtualenv-20.4.7-py2.py3-none-any.whl (7.2MB)\n",
            "\u001b[K     |████████████████████████████████| 7.2MB 11.7MB/s \n",
            "\u001b[?25hCollecting nodeenv>=0.11.1\n",
            "  Downloading https://mirror.baidu.com/pypi/packages/54/73/56c89b343befb9c63e8117294d265458f0ff726fa2abcdc6bb5ec5e66a1a/nodeenv-1.6.0-py2.py3-none-any.whl\n",
            "Collecting identify>=1.0.0\n",
            "\u001b[?25l  Downloading https://mirror.baidu.com/pypi/packages/dc/db/900191341d7559aa97c75e5b1f093d2fe7a64b7a42a7b20a5341e794e5ab/identify-2.2.10-py2.py3-none-any.whl (98kB)\n",
            "\u001b[K     |████████████████████████████████| 102kB 6.2MB/s \n",
            "\u001b[?25hRequirement already satisfied: toml in /usr/local/lib/python3.7/dist-packages (from pre-commit->visualdl>=2.1.0; python_version <= \"3.7\"->paddledet==2.1.0) (0.10.2)\n",
            "Collecting cfgv>=2.0.0\n",
            "  Downloading https://mirror.baidu.com/pypi/packages/49/54/83bf9b6ba673bf7d5ebe3846a5f6d3a53925cfd331aa29ec6b5b9c42a850/cfgv-3.3.0-py2.py3-none-any.whl\n",
            "Requirement already satisfied: click<8.0,>=5.1 in /usr/local/lib/python3.7/dist-packages (from flask>=1.1.1->visualdl>=2.1.0; python_version <= \"3.7\"->paddledet==2.1.0) (7.1.2)\n",
            "Requirement already satisfied: Werkzeug<2.0,>=0.15 in /usr/local/lib/python3.7/dist-packages (from flask>=1.1.1->visualdl>=2.1.0; python_version <= \"3.7\"->paddledet==2.1.0) (1.0.1)\n",
            "Requirement already satisfied: itsdangerous<2.0,>=0.24 in /usr/local/lib/python3.7/dist-packages (from flask>=1.1.1->visualdl>=2.1.0; python_version <= \"3.7\"->paddledet==2.1.0) (1.1.0)\n",
            "Requirement already satisfied: cycler>=0.10 in /usr/local/lib/python3.7/dist-packages (from matplotlib->visualdl>=2.1.0; python_version <= \"3.7\"->paddledet==2.1.0) (0.10.0)\n",
            "Requirement already satisfied: pyparsing!=2.0.4,!=2.1.2,!=2.1.6,>=2.0.1 in /usr/local/lib/python3.7/dist-packages (from matplotlib->visualdl>=2.1.0; python_version <= \"3.7\"->paddledet==2.1.0) (2.4.7)\n",
            "Requirement already satisfied: kiwisolver>=1.0.1 in /usr/local/lib/python3.7/dist-packages (from matplotlib->visualdl>=2.1.0; python_version <= \"3.7\"->paddledet==2.1.0) (1.3.1)\n",
            "Collecting py-cpuinfo\n",
            "\u001b[?25l  Downloading https://mirror.baidu.com/pypi/packages/e6/ba/77120e44cbe9719152415b97d5bfb29f4053ee987d6cb63f55ce7d50fadc/py-cpuinfo-8.0.0.tar.gz (99kB)\n",
            "\u001b[K     |████████████████████████████████| 102kB 6.4MB/s \n",
            "\u001b[?25hRequirement already satisfied: atomicwrites>=1.0 in /usr/local/lib/python3.7/dist-packages (from pytest->motmetrics->paddledet==2.1.0) (1.4.0)\n",
            "Requirement already satisfied: more-itertools>=4.0.0 in /usr/local/lib/python3.7/dist-packages (from pytest->motmetrics->paddledet==2.1.0) (8.8.0)\n",
            "Requirement already satisfied: py>=1.5.0 in /usr/local/lib/python3.7/dist-packages (from pytest->motmetrics->paddledet==2.1.0) (1.10.0)\n",
            "Requirement already satisfied: pluggy<0.8,>=0.5 in /usr/local/lib/python3.7/dist-packages (from pytest->motmetrics->paddledet==2.1.0) (0.7.1)\n",
            "Requirement already satisfied: attrs>=17.4.0 in /usr/local/lib/python3.7/dist-packages (from pytest->motmetrics->paddledet==2.1.0) (21.2.0)\n",
            "Requirement already satisfied: zipp>=0.5 in /usr/local/lib/python3.7/dist-packages (from importlib-metadata; python_version < \"3.8\"->flake8>=3.7.9->visualdl>=2.1.0; python_version <= \"3.7\"->paddledet==2.1.0) (3.4.1)\n",
            "Requirement already satisfied: typing-extensions>=3.6.4; python_version < \"3.8\" in /usr/local/lib/python3.7/dist-packages (from importlib-metadata; python_version < \"3.8\"->flake8>=3.7.9->visualdl>=2.1.0; python_version <= \"3.7\"->paddledet==2.1.0) (3.7.4.3)\n",
            "Requirement already satisfied: MarkupSafe>=0.23 in /usr/local/lib/python3.7/dist-packages (from Jinja2>=2.5->Flask-Babel>=1.0.0->visualdl>=2.1.0; python_version <= \"3.7\"->paddledet==2.1.0) (2.0.1)\n",
            "Requirement already satisfied: filelock<4,>=3.0.0 in /usr/local/lib/python3.7/dist-packages (from virtualenv>=20.0.8->pre-commit->visualdl>=2.1.0; python_version <= \"3.7\"->paddledet==2.1.0) (3.0.12)\n",
            "Collecting distlib<1,>=0.3.1\n",
            "\u001b[?25l  Downloading https://mirror.baidu.com/pypi/packages/87/26/f6a23dd3e578132cf924e0dd5d4e055af0cd4ab43e2a9f10b7568bfb39d9/distlib-0.3.2-py2.py3-none-any.whl (338kB)\n",
            "\u001b[K     |████████████████████████████████| 348kB 8.9MB/s \n",
            "\u001b[?25hRequirement already satisfied: appdirs<2,>=1.4.3 in /usr/local/lib/python3.7/dist-packages (from virtualenv>=20.0.8->pre-commit->visualdl>=2.1.0; python_version <= \"3.7\"->paddledet==2.1.0) (1.4.4)\n",
            "Building wheels for collected packages: lap, terminaltables, py-cpuinfo\n",
            "  Building wheel for lap (setup.py) ... \u001b[?25l\u001b[?25hdone\n",
            "  Created wheel for lap: filename=lap-0.4.0-cp37-cp37m-linux_x86_64.whl size=1590133 sha256=df3bb8f0f09fb1065fd6dc613ef75832775a61210b538f22f263686704fe05fc\n",
            "  Stored in directory: /root/.cache/pip/wheels/83/50/a9/e3660736bfb1fb50598b822551bb8c7ff04f1a4ecf69c42277\n",
            "  Building wheel for terminaltables (setup.py) ... \u001b[?25l\u001b[?25hdone\n",
            "  Created wheel for terminaltables: filename=terminaltables-3.1.0-cp37-none-any.whl size=15356 sha256=ce07ed558391dd19b215a73f5e8006cf2b356130ef08256b1dfecb3019cb03e3\n",
            "  Stored in directory: /root/.cache/pip/wheels/38/ce/e7/382f63c6888f05daac9bffbdea230dc620ceda20bedb449dce\n",
            "  Building wheel for py-cpuinfo (setup.py) ... \u001b[?25l\u001b[?25hdone\n",
            "  Created wheel for py-cpuinfo: filename=py_cpuinfo-8.0.0-cp37-none-any.whl size=22258 sha256=d6150a923fcad49c792e828accbeaf1760ce792a19596db5135040e280402b2a\n",
            "  Stored in directory: /root/.cache/pip/wheels/a5/77/fe/bd2fe25844956ae1e2353d7b2ffc9a90ab8c3c1b4b0862e1e9\n",
            "Successfully built lap terminaltables py-cpuinfo\n",
            "\u001b[31mERROR: pre-commit 2.13.0 has requirement pyyaml>=5.1, but you'll have pyyaml 3.13 which is incompatible.\u001b[0m\n",
            "\u001b[31mERROR: pytest-benchmark 3.4.1 has requirement pytest>=3.8, but you'll have pytest 3.6.4 which is incompatible.\u001b[0m\n",
            "Installing collected packages: lap, pycodestyle, mccabe, pyflakes, flake8, Flask-Babel, shellcheck-py, pycryptodome, bce-python-sdk, distlib, virtualenv, nodeenv, identify, cfgv, pre-commit, visualdl, py-cpuinfo, pytest-benchmark, flake8-import-order, xmltodict, motmetrics, terminaltables, paddledet\n",
            "Successfully installed Flask-Babel-2.0.0 bce-python-sdk-0.8.61 cfgv-3.3.0 distlib-0.3.2 flake8-3.9.2 flake8-import-order-0.18.1 identify-2.2.10 lap-0.4.0 mccabe-0.6.1 motmetrics-1.2.0 nodeenv-1.6.0 paddledet-2.1.0 pre-commit-2.13.0 py-cpuinfo-8.0.0 pycodestyle-2.7.0 pycryptodome-3.10.1 pyflakes-2.3.1 pytest-benchmark-3.4.1 shellcheck-py-0.7.2.1 terminaltables-3.1.0 virtualenv-20.4.7 visualdl-2.2.0 xmltodict-0.12.0\n"
          ],
          "name": "stdout"
        }
      ]
    },
    {
      "cell_type": "code",
      "metadata": {
        "colab": {
          "base_uri": "https://localhost:8080/"
        },
        "id": "4FNiQtQDkVwn",
        "outputId": "41203581-3a9b-4d67-e7f5-73948d4d6616"
      },
      "source": [
        "!git clone https://github.com/PaddlePaddle/PaddleDetection.git"
      ],
      "execution_count": null,
      "outputs": [
        {
          "output_type": "stream",
          "text": [
            "Cloning into 'PaddleDetection'...\n",
            "remote: Enumerating objects: 14312, done.\u001b[K\n",
            "remote: Counting objects: 100% (1258/1258), done.\u001b[K\n",
            "remote: Compressing objects: 100% (662/662), done.\u001b[K\n",
            "remote: Total 14312 (delta 747), reused 981 (delta 595), pack-reused 13054\u001b[K\n",
            "Receiving objects: 100% (14312/14312), 133.63 MiB | 28.14 MiB/s, done.\n",
            "Resolving deltas: 100% (10076/10076), done.\n"
          ],
          "name": "stdout"
        }
      ]
    },
    {
      "cell_type": "code",
      "metadata": {
        "colab": {
          "base_uri": "https://localhost:8080/"
        },
        "id": "mbLBmRQclGlf",
        "outputId": "f4f7bddf-26a5-4ed7-b348-4a1d79d99126"
      },
      "source": [
        "%cd /content/PaddleDetection"
      ],
      "execution_count": null,
      "outputs": [
        {
          "output_type": "stream",
          "text": [
            "/content/PaddleDetection\n"
          ],
          "name": "stdout"
        }
      ]
    },
    {
      "cell_type": "code",
      "metadata": {
        "colab": {
          "base_uri": "https://localhost:8080/"
        },
        "id": "r6jacjqylKRH",
        "outputId": "72182dce-00bb-4e53-b50a-7998165e0c6b"
      },
      "source": [
        "!python ppdet/modeling/tests/test_architectures.py"
      ],
      "execution_count": null,
      "outputs": [
        {
          "output_type": "stream",
          "text": [
            "/usr/local/lib/python3.7/dist-packages/IPython/utils/module_paths.py:29: DeprecationWarning: the imp module is deprecated in favour of importlib; see the module's documentation for alternative uses\n",
            "  import imp\n",
            "/usr/local/lib/python3.7/dist-packages/yaml/constructor.py:126: DeprecationWarning: Using or importing the ABCs from 'collections' instead of from 'collections.abc' is deprecated since Python 3.3,and in 3.9 it will stop working\n",
            "  if not isinstance(key, collections.Hashable):\n",
            "W0630 18:03:40.541051   291 device_context.cc:404] Please NOTE: device: 0, GPU Compute Capability: 7.5, Driver API Version: 11.2, Runtime API Version: 10.1\n",
            "W0630 18:03:40.544620   291 device_context.cc:422] device: 0, cuDNN Version: 7.6.\n",
            ".....\n",
            "----------------------------------------------------------------------\n",
            "Ran 5 tests in 2.244s\n",
            "\n",
            "OK\n"
          ],
          "name": "stdout"
        }
      ]
    },
    {
      "cell_type": "code",
      "metadata": {
        "id": "np3ZF895lZvU"
      },
      "source": [
        "!export CUDA_VISIBLE_DEVICES=0"
      ],
      "execution_count": null,
      "outputs": []
    },
    {
      "cell_type": "code",
      "metadata": {
        "id": "CBud1BgvnzEy",
        "colab": {
          "base_uri": "https://localhost:8080/"
        },
        "outputId": "5d3287de-6613-4fd9-9a8b-24480d37a86e"
      },
      "source": [
        "!python tools/infer.py -c configs/ppyolo/ppyolo_r50vd_dcn_1x_coco.yml -o use_gpu=true weights=https://paddledet.bj.bcebos.com/models/ppyolo_r50vd_dcn_1x_coco.pdparams --infer_img=demo/000000570688.jpg"
      ],
      "execution_count": null,
      "outputs": [
        {
          "output_type": "stream",
          "text": [
            "/usr/local/lib/python3.7/dist-packages/IPython/utils/module_paths.py:29: DeprecationWarning: the imp module is deprecated in favour of importlib; see the module's documentation for alternative uses\n",
            "  import imp\n",
            "/usr/local/lib/python3.7/dist-packages/yaml/constructor.py:126: DeprecationWarning: Using or importing the ABCs from 'collections' instead of from 'collections.abc' is deprecated since Python 3.3,and in 3.9 it will stop working\n",
            "  if not isinstance(key, collections.Hashable):\n",
            "W0630 18:25:10.567497   388 device_context.cc:404] Please NOTE: device: 0, GPU Compute Capability: 7.5, Driver API Version: 11.2, Runtime API Version: 10.1\n",
            "W0630 18:25:10.570837   388 device_context.cc:422] device: 0, cuDNN Version: 7.6.\n",
            "[06/30 18:25:15] ppdet.utils.checkpoint INFO: Finish loading model weights: /root/.cache/paddle/weights/ppyolo_r50vd_dcn_1x_coco.pdparams\n",
            "[06/30 18:25:16] ppdet.engine INFO: Detection bbox results save in output/000000570688.jpg\n"
          ],
          "name": "stdout"
        }
      ]
    },
    {
      "cell_type": "code",
      "metadata": {
        "id": "oJ3JGlaSwj11"
      },
      "source": [
        ""
      ],
      "execution_count": null,
      "outputs": []
    }
  ]
}